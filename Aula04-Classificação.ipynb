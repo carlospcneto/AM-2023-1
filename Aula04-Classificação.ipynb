{
 "cells": [
  {
   "cell_type": "markdown",
   "metadata": {},
   "source": [
    "# Aula 04 - Classificação\n",
    "\n",
    "Esse notebook contém os códigos demonstrados em sala de aula."
   ]
  },
  {
   "cell_type": "code",
   "execution_count": 2,
   "metadata": {},
   "outputs": [
    {
     "name": "stdout",
     "output_type": "stream",
     "text": [
      "32         Iris-setosa\n",
      "130     Iris-virginica\n",
      "62     Iris-versicolor\n",
      "82     Iris-versicolor\n",
      "147     Iris-virginica\n",
      "127     Iris-virginica\n",
      "72     Iris-versicolor\n",
      "148     Iris-virginica\n",
      "51     Iris-versicolor\n",
      "36         Iris-setosa\n",
      "139     Iris-virginica\n",
      "20         Iris-setosa\n",
      "138     Iris-virginica\n",
      "28         Iris-setosa\n",
      "123     Iris-virginica\n",
      "Name: species, dtype: object\n",
      "['Iris-setosa' 'Iris-virginica' 'Iris-versicolor' 'Iris-versicolor'\n",
      " 'Iris-virginica' 'Iris-virginica' 'Iris-virginica' 'Iris-virginica'\n",
      " 'Iris-versicolor' 'Iris-setosa' 'Iris-virginica' 'Iris-setosa'\n",
      " 'Iris-virginica' 'Iris-setosa' 'Iris-virginica']\n"
     ]
    }
   ],
   "source": [
    "import numpy as np\n",
    "import pandas as pd\n",
    "from sklearn.neighbors import KNeighborsClassifier\n",
    "# Localização do arquivo\n",
    "filepath = 'data/Iris_Data.csv'\n",
    "# Importando os dados\n",
    "data = pd.read_csv(filepath)\n",
    "\n",
    "#Colocando os dados em ordem aleatória \n",
    "randomdata = (data.sample(n=150, replace=False))\n",
    "#Aplicando hold out\n",
    "traindata = randomdata.iloc[:135,:]\n",
    "testdata = randomdata.iloc[135:,:]\n",
    "\n",
    "#Cria uma instância \n",
    "KNN = KNeighborsClassifier(n_neighbors=3)\n",
    "\n",
    "#Ajusta a modelo aos dados de treino\n",
    "KNN = KNN.fit(traindata.iloc[:,0:4],traindata.iloc[:,4])\n",
    "\n",
    "#Classe real\n",
    "print(testdata.iloc[:,4])\n",
    "\n",
    "#Classe predita\n",
    "print(KNN.predict(testdata.iloc[:,0:4]))"
   ]
  },
  {
   "cell_type": "code",
   "execution_count": 3,
   "metadata": {},
   "outputs": [
    {
     "name": "stdout",
     "output_type": "stream",
     "text": [
      "[1.         0.93333333 1.         0.93333333 0.86666667 1.\n",
      " 0.93333333 1.         1.         1.        ]\n"
     ]
    }
   ],
   "source": [
    "#Importando validação cruzada\n",
    "from sklearn.model_selection import cross_val_score, KFold, StratifiedKFold\n",
    "\n",
    "#Aplica validação cruzada\n",
    "print(cross_val_score(KNN, data.iloc[:,0:4], data.iloc[:,4], cv=10))"
   ]
  }
 ],
 "metadata": {
  "kernelspec": {
   "display_name": "Python 3",
   "language": "python",
   "name": "python3"
  },
  "language_info": {
   "codemirror_mode": {
    "name": "ipython",
    "version": 3
   },
   "file_extension": ".py",
   "mimetype": "text/x-python",
   "name": "python",
   "nbconvert_exporter": "python",
   "pygments_lexer": "ipython3",
   "version": "3.6.5"
  }
 },
 "nbformat": 4,
 "nbformat_minor": 2
}
