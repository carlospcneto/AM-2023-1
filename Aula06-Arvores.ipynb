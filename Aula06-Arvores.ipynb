{
 "cells": [
  {
   "attachments": {},
   "cell_type": "markdown",
   "metadata": {},
   "source": [
    "# Aula 06 - Árvores de decisão\n",
    "\n",
    "Esse notebook contém os códigos demonstrados em sala de aula."
   ]
  },
  {
   "cell_type": "code",
   "execution_count": 2,
   "metadata": {},
   "outputs": [
    {
     "ename": "ModuleNotFoundError",
     "evalue": "No module named 'pandas'",
     "output_type": "error",
     "traceback": [
      "\u001b[1;31m---------------------------------------------------------------------------\u001b[0m",
      "\u001b[1;31mModuleNotFoundError\u001b[0m                       Traceback (most recent call last)",
      "Cell \u001b[1;32mIn[2], line 1\u001b[0m\n\u001b[1;32m----> 1\u001b[0m \u001b[39mimport\u001b[39;00m \u001b[39mpandas\u001b[39;00m \u001b[39mas\u001b[39;00m \u001b[39mpd\u001b[39;00m\n\u001b[0;32m      2\u001b[0m \u001b[39m#Importa o método de Árvores de Decisão do Sklearn\u001b[39;00m\n\u001b[0;32m      3\u001b[0m \u001b[39mfrom\u001b[39;00m \u001b[39msklearn\u001b[39;00m\u001b[39m.\u001b[39;00m\u001b[39mtree\u001b[39;00m \u001b[39mimport\u001b[39;00m DecisionTreeClassifier\n",
      "\u001b[1;31mModuleNotFoundError\u001b[0m: No module named 'pandas'"
     ]
    }
   ],
   "source": [
    "import pandas as pd\n",
    "#Importa o método de Árvores de Decisão do Sklearn\n",
    "from sklearn.tree import DecisionTreeClassifier\n",
    "# Localização do arquivo\n",
    "filepath = 'data/Iris_Data.csv'\n",
    "# Importando os dados\n",
    "data = pd.read_csv(filepath)\n",
    "#Colocando os dados em ordem aleatória \n",
    "randomdata = (data.sample(n=150, replace=False))\n",
    "#Aplicando hold out\n",
    "traindata = randomdata.iloc[:135,:]\n",
    "testdata = randomdata.iloc[135:,:]\n",
    "\n",
    "#Cria uma instância de classe\n",
    "DTC = DecisionTreeClassifier(criterion='gini', max_features=4, max_depth=5)\n",
    "\n",
    "#Ajusta a Árvore aos dados de treino\n",
    "DTC = DTC.fit(traindata.iloc[:,0:4], traindata.iloc[:,4]) \n",
    "#Classe real\n",
    "print(testdata.iloc[:,4])\n",
    "\n",
    "#Classe predita\n",
    "print(DTC.predict(testdata.iloc[:,0:4]))"
   ]
  }
 ],
 "metadata": {
  "kernelspec": {
   "display_name": "Python 3",
   "language": "python",
   "name": "python3"
  },
  "language_info": {
   "codemirror_mode": {
    "name": "ipython",
    "version": 3
   },
   "file_extension": ".py",
   "mimetype": "text/x-python",
   "name": "python",
   "nbconvert_exporter": "python",
   "pygments_lexer": "ipython3",
   "version": "3.11.1"
  }
 },
 "nbformat": 4,
 "nbformat_minor": 2
}
