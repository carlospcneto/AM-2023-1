{
 "cells": [
  {
   "cell_type": "markdown",
   "metadata": {},
   "source": [
    "# Aula 06 - Árvores de decisão\n",
    "\n",
    "Esse notebook contém os códigos demonstrados em sala de aula."
   ]
  },
  {
   "cell_type": "code",
   "execution_count": 3,
   "metadata": {},
   "outputs": [
    {
     "name": "stdout",
     "output_type": "stream",
     "text": [
      "113     Iris-virginica\n",
      "104     Iris-virginica\n",
      "13         Iris-setosa\n",
      "51     Iris-versicolor\n",
      "34         Iris-setosa\n",
      "86     Iris-versicolor\n",
      "109     Iris-virginica\n",
      "99     Iris-versicolor\n",
      "96     Iris-versicolor\n",
      "138     Iris-virginica\n",
      "3          Iris-setosa\n",
      "82     Iris-versicolor\n",
      "91     Iris-versicolor\n",
      "27         Iris-setosa\n",
      "52     Iris-versicolor\n",
      "Name: species, dtype: object\n",
      "['Iris-virginica' 'Iris-virginica' 'Iris-setosa' 'Iris-versicolor'\n",
      " 'Iris-setosa' 'Iris-versicolor' 'Iris-virginica' 'Iris-versicolor'\n",
      " 'Iris-versicolor' 'Iris-virginica' 'Iris-setosa' 'Iris-versicolor'\n",
      " 'Iris-versicolor' 'Iris-setosa' 'Iris-virginica']\n"
     ]
    }
   ],
   "source": [
    "import pandas as pd\n",
    "#Importa o método de Árvores de Decisão do Sklearn\n",
    "from sklearn.tree import DecisionTreeClassifier\n",
    "# Localização do arquivo\n",
    "filepath = 'data/Iris_Data.csv'\n",
    "# Importando os dados\n",
    "data = pd.read_csv(filepath)\n",
    "#Colocando os dados em ordem aleatória \n",
    "randomdata = (data.sample(n=150, replace=False))\n",
    "#Aplicando hold out\n",
    "traindata = randomdata.iloc[:135,:]\n",
    "testdata = randomdata.iloc[135:,:]\n",
    "\n",
    "#Cria uma instância de classe\n",
    "DTC = DecisionTreeClassifier(criterion='gini', max_features=4, max_depth=5)\n",
    "\n",
    "#Ajusta a Árvore aos dados de treino\n",
    "DTC = DTC.fit(traindata.iloc[:,0:4], traindata.iloc[:,4]) \n",
    "#Classe real\n",
    "print(testdata.iloc[:,4])\n",
    "\n",
    "#Classe predita\n",
    "print(DTC.predict(testdata.iloc[:,0:4]))"
   ]
  }
 ],
 "metadata": {
  "kernelspec": {
   "display_name": "Python 3",
   "language": "python",
   "name": "python3"
  },
  "language_info": {
   "codemirror_mode": {
    "name": "ipython",
    "version": 3
   },
   "file_extension": ".py",
   "mimetype": "text/x-python",
   "name": "python",
   "nbconvert_exporter": "python",
   "pygments_lexer": "ipython3",
   "version": "3.6.5"
  }
 },
 "nbformat": 4,
 "nbformat_minor": 2
}
