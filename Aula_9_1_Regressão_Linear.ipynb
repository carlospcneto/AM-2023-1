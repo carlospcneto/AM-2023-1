{
 "cells": [
  {
   "cell_type": "markdown",
   "metadata": {},
   "source": [
    "*Este notebook contêm códigos extraidos do livro: [Python Data Science Handbook](http://shop.oreilly.com/product/0636920034919.do) escrito por Jake VanderPlas; o conteúdo completo do livro está disponível [no GitHub](https://github.com/jakevdp/PythonDataScienceHandbook).*\n",
    "\n",
    "*The text is released under the [CC-BY-NC-ND license](https://creativecommons.org/licenses/by-nc-nd/3.0/us/legalcode), and code is released under the [MIT license](https://opensource.org/licenses/MIT).*\n"
   ]
  },
  {
   "cell_type": "markdown",
   "metadata": {},
   "source": [
    "# Regressão Linear"
   ]
  },
  {
   "cell_type": "markdown",
   "metadata": {},
   "source": [
    "Assim como Naive Bayes (discutido anteriormente em [Naive Bayes Classification](Aula_6_1_Naive_Bayes.ipynb)) é um bom ponto de partida para tarefas de classificação, os modelos de regressão linear são um bom ponto de partida para tarefas de regressão.\n",
    "Esses modelos são populares porque podem ser ajustados muito rapidamente e são muito interpretáveis.\n",
    "Você provavelmente está familiarizado com a forma mais simples de um modelo de regressão linear (ou seja, ajustar uma linha reta aos dados), mas esses modelos podem ser estendidos para modelar comportamentos de dados mais complicados.\n"
   ]
  },
  {
   "cell_type": "code",
   "execution_count": 1,
   "metadata": {},
   "outputs": [],
   "source": [
    "\n",
    "import matplotlib.pyplot as plt\n",
    "import seaborn as sns; sns.set()\n",
    "import numpy as np"
   ]
  },
  {
   "cell_type": "markdown",
   "metadata": {},
   "source": [
    "## Simple Linear Regression\n",
    "\n",
    "Começaremos com a regressão linear mais familiar, um ajuste em linha reta aos dados. Um ajuste em linha reta é um modelo da forma\n",
    "$$\n",
    "y = ax + b\n",
    "$$\n",
    "onde $a$ é comumente chamado de  *coeficiente angular*, e $b$ é comumente chamado de *coeficiente linear*.\n",
    "\n",
    "Considere os seguintes dados, que estão espalhados em uma linha com $a$ = 2 e $b$ = -5:"
   ]
  },
  {
   "cell_type": "code",
   "execution_count": 2,
   "metadata": {},
   "outputs": [
    {
     "data": {
      "image/png": "[encoded data removed]",
      "text/plain": [
       "<Figure size 432x288 with 1 Axes>"
      ]
     },
     "metadata": {},
     "output_type": "display_data"
    }
   ],
   "source": [
    "rng = np.random.RandomState(1)\n",
    "x = 10 * rng.rand(50)\n",
    "y = 2 * x - 5 + rng.randn(50)\n",
    "plt.scatter(x, y);"
   ]
  },
  {
   "cell_type": "markdown",
   "metadata": {},
   "source": [
    "Podemos usar o regressor ``LinearRegression`` do Scikit-Learns para ajustar esses dados e construir a linha de melhor ajuste"
   ]
  },
  {
   "cell_type": "code",
   "execution_count": 3,
   "metadata": {},
   "outputs": [
    {
     "data": {
      "image/png": "[encoded data removed]",
      "text/plain": [
       "<Figure size 432x288 with 1 Axes>"
      ]
     },
     "metadata": {},
     "output_type": "display_data"
    }
   ],
   "source": [
    "from sklearn.linear_model import LinearRegression\n",
    "model = LinearRegression(fit_intercept=True)\n",
    "\n",
    "model.fit(x[:, np.newaxis], y)\n",
    "\n",
    "xfit = np.linspace(0, 10, 1000)\n",
    "yfit = model.predict(xfit[:, np.newaxis])\n",
    "\n",
    "plt.scatter(x, y)\n",
    "plt.plot(xfit, yfit);"
   ]
  },
  {
   "cell_type": "markdown",
   "metadata": {},
   "source": [
    "A inclinação e o coeficiente linear dos dados estão contidas nos parâmetros de ajuste do modelo, que no Scikit-Learn são sempre marcados por um sublinhado à direita.\n",
    "Aqui os parâmetros relevantes são ``coef_`` e ``intercept_``:"
   ]
  },
  {
   "cell_type": "code",
   "execution_count": 4,
   "metadata": {},
   "outputs": [
    {
     "name": "stdout",
     "output_type": "stream",
     "text": [
      "Model coeficiente angular:     2.027208810360695\n",
      "Model coeficiente linear: -4.998577085553202\n"
     ]
    }
   ],
   "source": [
    "print(\"Model coeficiente angular:    \", model.coef_[0])\n",
    "print(\"Model coeficiente linear:\", model.intercept_)"
   ]
  },
  {
   "cell_type": "markdown",
   "metadata": {},
   "source": [
    "We see that the results are very close to the inputs, as we might hope."
   ]
  },
  {
   "cell_type": "markdown",
   "metadata": {},
   "source": [
    "O regressor ``LinearRegression`` pode fazer muito mais - além de ajustes simples em linha reta, ele também pode lidar com modelos lineares multidimensionais da forma:\n",
    "$$\n",
    "y = a_0 + a_1 x_1 + a_2 x_2 + \\cdots\n",
    "$$\n",
    "Onde existem vários valores $x$\n",
    "Geometricamente, isso é semelhante a ajustar um plano a pontos em três dimensões, ou ajustar um hiperplano a pontos em dimensões superiores. \n",
    "\n",
    "A natureza multidimensional de tais regressões as torna mais difíceis de visualizar, mas podemos ver um desses ajustes em ação construindo alguns dados de exemplo, usando o operador de multiplicação de matriz NumPy:"
   ]
  },
  {
   "cell_type": "code",
   "execution_count": 5,
   "metadata": {},
   "outputs": [],
   "source": [
    "rng = np.random.RandomState(1)\n",
    "X = 10 * rng.rand(100, 3)\n",
    "y = 0.5 + np.dot(X, [1.5, -2., 1.])\n"
   ]
  },
  {
   "cell_type": "code",
   "execution_count": 6,
   "metadata": {},
   "outputs": [],
   "source": [
    "train_set = zip(X,y)"
   ]
  },
  {
   "cell_type": "code",
   "execution_count": 7,
   "metadata": {},
   "outputs": [
    {
     "name": "stdout",
     "output_type": "stream",
     "text": [
      "Valores de x: [4.17022005e+00 7.20324493e+00 1.14374817e-03] e valor esperado: -7.650016050131102\n",
      "Valores de x: [3.02332573 1.46755891 0.92338595] e valor esperado: 3.023256720823314\n",
      "Valores de x: [1.86260211 3.45560727 3.96767474] e valor esperado: 0.3503633721108077\n",
      "Valores de x: [5.38816734 4.19194514 6.852195  ] e valor esperado: 7.050555725952054\n",
      "Valores de x: [2.0445225  8.78117436 0.27387593] e valor esperado: -13.721689049866884\n",
      "Valores de x: [6.7046751  4.17304802 5.58689828] e valor esperado: 7.79781488979101\n",
      "Valores de x: [1.40386939 1.98101489 8.00744569] e valor esperado: 6.651219983986296\n",
      "Valores de x: [9.68261576 3.13424178 6.92322616] e valor esperado: 15.678666229299246\n",
      "Valores de x: [8.76389152 8.94606664 0.85044211] e valor esperado: -3.395853871938593\n",
      "Valores de x: [0.39054783 1.6983042  8.78142503] e valor esperado: 6.470638391495989\n",
      "Valores de x: [0.98346834 4.21107625 9.5788953 ] e valor esperado: 3.131945308899727\n",
      "Valores de x: [5.33165285 6.91877114 3.15515631] e valor esperado: -2.1849066943535815\n",
      "Valores de x: [6.86500928 8.34625672 0.18288277] e valor esperado: -5.712116749281785\n",
      "Valores de x: [7.50144315 9.88861089 7.48165654] e valor esperado: -0.5434005101569888\n",
      "Valores de x: [2.80443992 7.89279328 1.03226007] e valor esperado: -10.046666622287272\n",
      "Valores de x: [4.47893526 9.08595503 2.93614148] e valor esperado: -8.017365685486538\n",
      "Valores de x: [2.87775339 1.30028572 0.19366958] e valor esperado: 2.409728215132648\n",
      "Valores de x: [6.78835533 2.11628116 2.65546659] e valor esperado: 9.105437267819443\n",
      "Valores de x: [4.91573159 0.53362545 5.74117605] e valor esperado: 12.547522541783596\n",
      "Valores de x: [1.46728575 5.89305537 6.9975836 ] e valor esperado: -2.087598514269219\n",
      "Valores de x: [1.02334429 4.14055988 6.94400158] e valor esperado: 0.6978982533034728\n",
      "Valores de x: [4.1417927  0.49953459 5.35896406] e valor esperado: 11.072583923136914\n",
      "Valores de x: [6.63794645 5.14889112 9.44594756] e valor esperado: 9.605084997038794\n",
      "Valores de x: [5.86555041 9.03401915 1.37474704] e valor esperado: -7.394965656765403\n",
      "Valores de x: [1.39276347 8.07391289 3.97676837] e valor esperado: -9.581912195573763\n",
      "Valores de x: [1.65354197 9.2750858  3.4776586 ] e valor esperado: -12.092200053711622\n",
      "Valores de x: [7.50812103 7.25997985 8.83306091] e valor esperado: 6.075282752091402\n",
      "Valores de x: [6.23672207 7.50942434 3.48898342] e valor esperado: -1.6747821549341841\n",
      "Valores de x: [2.69927892 8.95886218 4.2809119 ] e valor esperado: -9.087894088732996\n",
      "Valores de x: [9.64840047 6.63441498 6.2169572 ] e valor esperado: 7.92072795294804\n",
      "Valores de x: [1.14745973 9.49489259 4.49912133] e valor esperado: -12.26947424504139\n",
      "Valores de x: [5.78389614 4.08136803 2.3702698 ] e valor esperado: 3.3833779630116307\n",
      "Valores de x: [9.03379521 5.73679487 0.02870327] e valor esperado: 2.6058063452996776\n",
      "Valores de x: [6.17144914 3.26644902 5.27058102] e valor esperado: 8.49485669144503\n",
      "Valores de x: [8.85942099 3.5726976  9.08535151] e valor esperado: 15.729087798809614\n",
      "Valores de x: [6.23360116 0.15821243 9.29437234] e valor esperado: 18.828349217383526\n",
      "Valores de x: [6.90896918 9.9732285  1.72340508] e valor esperado: -7.359598162822466\n",
      "Valores de x: [1.3713575  9.32595463 6.96818161] e valor esperado: -9.126691401411101\n",
      "Valores de x: [0.66000173 7.55463053 7.53876188] e valor esperado: -6.080496576605926\n",
      "Valores de x: [9.23024536 7.11524759 1.24270962] e valor esperado: 1.3575824803494614\n",
      "Valores de x: [0.19880134 0.26210987 0.28306488] e valor esperado: 0.5570471502504943\n",
      "Valores de x: [2.46211068 8.60027949 5.38831064] e valor esperado: -7.619082316195541\n",
      "Valores de x: [5.52821979 8.42030892 1.24173315] e valor esperado: -6.806555015706513\n",
      "Valores de x: [2.79183679 5.85759271 9.69595748] e valor esperado: 2.66852723919808\n",
      "Valores de x: [5.61030219 0.18647289 8.00632673] e valor esperado: 16.548834228182955\n",
      "Valores de x: [2.32974274 8.07105196 3.87860644] e valor esperado: -8.268883364118558\n",
      "Valores de x: [8.63541855 7.47121643 5.56240234] e valor esperado: 4.073097303551927\n",
      "Valores de x: [1.36455226 0.5991769  1.21343456] e valor esperado: 2.5619091520734156\n",
      "Valores de x: [0.44551879 1.07494129 2.25709339] e valor esperado: 1.275488982128115\n",
      "Valores de x: [7.1298898  5.59716982 0.1255598 ] e valor esperado: 0.1260548662484593\n",
      "Valores de x: [0.7197428  9.6727633  5.68100462] e valor esperado: -12.08490778546372\n",
      "Valores de x: [2.03293235 2.52325745 7.43825854] e valor esperado: 5.941142169259319\n",
      "Valores de x: [1.95429481 5.81358927 9.70019989] e valor esperado: 1.5044635620577491\n",
      "Valores de x: [8.46828801 2.39847759 4.93769714] e valor esperado: 13.343173982086103\n",
      "Valores de x: [6.19955718 8.289809   1.56791395] e valor esperado: -5.2123682688220345\n",
      "Valores de x: [0.18576202 0.70022144 4.86345111] e valor esperado: 4.241651267647015\n",
      "Valores de x: [6.06329462 5.68851437 3.17362409] e valor esperado: 1.3915372762919356\n",
      "Valores de x: [9.88616154 5.79745219 3.80141173] e valor esperado: 7.535749657506297\n",
      "Valores de x: [5.50948219 7.45334431 6.69232893] e valor esperado: 0.5498636031702553\n",
      "Valores de x: [2.64919558 0.66334834 3.70084198] e valor esperado: 6.847938655514373\n",
      "Valores de x: [6.29717507 2.1017401  7.52755554] e valor esperado: 13.269837944414816\n",
      "Valores de x: [0.66536481 2.60315099 8.04754564] e valor esperado: 4.33929088617436\n",
      "Valores de x: [1.93434283 6.39460881 5.24670309] e valor esperado: -4.14100028701155\n",
      "Valores de x: [9.2480797  2.6329677  0.65961091] e valor esperado: 9.76579505308828\n",
      "Valores de x: [7.35065963 7.7217803  9.07815853] e valor esperado: 5.160587383500346\n",
      "Valores de x: [9.31972069 0.13951573 2.34362086] e valor esperado: 16.544170439654824\n",
      "Valores de x: [6.16778357 9.49016321 9.50176119] e valor esperado: 0.27311013374333193\n",
      "Valores de x: [5.56653188 9.1560635  6.41566209] e valor esperado: -3.0466670829347704\n",
      "Valores de x: [3.90007714 4.85990667 6.04310483] e valor esperado: 2.6734071993802306\n",
      "Valores de x: [5.49547922 9.26181427 9.18733436] e valor esperado: -0.593075355164574\n",
      "Valores de x: [3.94875613 9.63262528 1.73955667] e valor esperado: -11.102559708156267\n",
      "Valores de x: [1.26329519 1.35079158 5.05662166] e valor esperado: 4.7499812874289\n",
      "Valores de x: [0.21524805 9.47970211 8.27115471] e valor esperado: -9.865377433533325\n",
      "Valores de x: [0.15018981 1.76196256 3.32063574] e valor esperado: 0.5219953432991007\n",
      "Valores de x: [1.30996845 8.09490692 3.44736653] e valor esperado: -10.277494643534954\n",
      "Valores de x: [9.40107482 5.8201418  8.78831984] e valor esperado: 11.749648480177346\n",
      "Valores de x: [8.44734445 9.05392319 4.59880266] e valor esperado: -0.3380270351215904\n",
      "Valores de x: [5.46346816 7.98603591 2.85718852] e valor esperado: -4.419681065393712\n",
      "Valores de x: [4.90253523 5.99110308 0.15533276] e valor esperado: -3.973070558110292\n",
      "Valores de x: [5.93481408 4.33676349 8.07360529] e valor esperado: 8.802299432008805\n",
      "Valores de x: [3.15244803 8.92888709 5.77857215] e valor esperado: -6.850529971227079\n",
      "Valores de x: [1.84010202 7.87929234 6.12031177] e valor esperado: -6.378119881648772\n",
      "Valores de x: [0.53909272 4.2019368  6.79068837] e valor esperado: -0.3045461532620539\n",
      "Valores de x: [9.18601778e+00 4.02024891e-03 9.76759149e+00] e valor esperado: 24.038577662146338\n",
      "Valores de x: [3.76580315 9.73783538 6.04716101] e valor esperado: -7.279805036239305\n",
      "Valores de x: [8.28845808 5.74711505 6.28076198] e valor esperado: 7.719219008621852\n",
      "Valores de x: [2.85576282 5.86833341 7.50021764] e valor esperado: 0.5471950493403499\n",
      "Valores de x: [8.58313836 7.55082188 6.98057248] e valor esperado: 5.253636261555061\n",
      "Valores de x: [8.6447943  3.22680997 6.70788791] e valor esperado: 13.721459421959942\n",
      "Valores de x: [4.50873936 3.82102752 4.1081135 ] e valor esperado: 3.729167504791749\n",
      "Valores de x: [4.01479583 3.17383946 6.21919368] e valor esperado: 6.393708512080584\n",
      "Valores de x: [4.30247271 9.73802078 6.77800891] e valor esperado: -5.744323581882968\n",
      "Valores de x: [1.98569888 4.26701009 3.4334624 ] e valor esperado: -1.6220094628097632\n",
      "Valores de x: [7.97638804 8.79998289 9.03841956] e valor esperado: 3.903035846373582\n",
      "Valores de x: [6.62719812 2.70208262 2.52366702] e valor esperado: 7.560298960079677\n",
      "Valores de x: [8.54897943 5.27714646 8.02161084] e valor esperado: 10.790787054332084\n",
      "Valores de x: [5.72488517 7.33142525 5.19011627] e valor esperado: -0.3854064732355704\n",
      "Valores de x: [7.70883911 5.68857991 4.65709879] e valor esperado: 5.343197629353817\n",
      "Valores de x: [3.42688908 0.68209348 3.77924179] e valor esperado: 8.055388444246143\n",
      "Valores de x: [0.79626078 9.82817114 1.81612851] e valor esperado: -16.145822595827475\n"
     ]
    }
   ],
   "source": [
    "for x,target in train_set:\n",
    "    print(f\"Valores de x: {x} e valor esperado: {target}\")"
   ]
  },
  {
   "cell_type": "code",
   "execution_count": 8,
   "metadata": {},
   "outputs": [
    {
     "name": "stdout",
     "output_type": "stream",
     "text": [
      "0.5000000000000144\n",
      "[ 1.5 -2.   1. ]\n"
     ]
    }
   ],
   "source": [
    "model.fit(X, y)\n",
    "print(model.intercept_)\n",
    "print(model.coef_)"
   ]
  },
  {
   "cell_type": "code",
   "execution_count": 8,
   "metadata": {
    "scrolled": false
   },
   "outputs": [
    {
     "name": "stdout",
     "output_type": "stream",
     "text": [
      "0.5000000000000144\n",
      "[ 1.5 -2.   1. ]\n"
     ]
    }
   ],
   "source": [
    "model.fit(X, y)\n",
    "print(model.intercept_)\n",
    "print(model.coef_)"
   ]
  }
 ],
 "metadata": {
  "anaconda-cloud": {},
  "kernelspec": {
   "display_name": "Python 3 (ipykernel)",
   "language": "python",
   "name": "python3"
  },
  "language_info": {
   "codemirror_mode": {
    "name": "ipython",
    "version": 3
   },
   "file_extension": ".py",
   "mimetype": "text/x-python",
   "name": "python",
   "nbconvert_exporter": "python",
   "pygments_lexer": "ipython3",
   "version": "3.9.12"
  }
 },
 "nbformat": 4,
 "nbformat_minor": 1
}
